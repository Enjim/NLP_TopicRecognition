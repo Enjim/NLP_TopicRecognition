{
 "cells": [
  {
   "cell_type": "code",
   "execution_count": 43,
   "metadata": {},
   "outputs": [],
   "source": [
    "import numpy as np\n",
    "import matplotlib.pyplot as plt\n",
    "import pandas as pd\n",
    "import seaborn as sns\n",
    "import os\n",
    "from bs4 import BeautifulSoup\n",
    "import nltk\n",
    "import string\n",
    "from collections import Counter\n",
    "from nltk.stem.porter import *\n",
    "from nltk.corpus import stopwords\n",
    "from nltk.corpus import wordnet\n",
    "from nltk.stem.wordnet import WordNetLemmatizer\n",
    "from bs4 import BeautifulSoup\n",
    "from sklearn.feature_extraction.text import TfidfTransformer\n",
    "from sklearn.model_selection import train_test_split\n",
    "from sklearn.ensemble import RandomForestClassifier\n",
    "from sklearn.pipeline import Pipeline\n",
    "from sklearn import metrics\n",
    "from sklearn.metrics import classification_report"
   ]
  },
  {
   "cell_type": "code",
   "execution_count": 2,
   "metadata": {},
   "outputs": [],
   "source": [
    "def init_document():\n",
    "    \"\"\" function: init_document\n",
    "        -----------------------\n",
    "        initialize new empty document skeleton\n",
    "        :returns: dictionary @document of document fields\n",
    "        @dictionary['topics'] is a list representing topic class labels\n",
    "        @dictionary['words'] is a dictionary\n",
    "        @dictionary['words']['title'] is the title of the document\n",
    "        @dictionary['words']['body'] is a list for the body text terms\n",
    "    \"\"\"\n",
    "    document = { 'topics' : [], 'places' : [], 'words' : dict([]) }\n",
    "    document['words']['title'] = []\n",
    "    document['words']['body']  = []\n",
    "    return document"
   ]
  },
  {
   "cell_type": "code",
   "execution_count": 3,
   "metadata": {},
   "outputs": [],
   "source": [
    "def lemmatize(tokens):\n",
    "    lemmas = []\n",
    "    lmtzr = WordNetLemmatizer()\n",
    "    for token in tokens:\n",
    "        lemmas.append(lmtzr.lemmatize(token))\n",
    "    return lemmas"
   ]
  },
  {
   "cell_type": "code",
   "execution_count": 4,
   "metadata": {},
   "outputs": [],
   "source": [
    "def tokenize(text):\n",
    "    translation_table = text.maketrans(string.punctuation, ' '*len(string.punctuation))\n",
    "    no_punctuation = text.translate(translation_table)\n",
    "    translation_table_digits = str.maketrans('','',string.digits)\n",
    "    no_digits_and_punctuation = no_punctuation.translate(translation_table_digits)\n",
    "    text_tokens = nltk.tokenize.word_tokenize(no_digits_and_punctuation)\n",
    "    tokens_without_sw = [word for word in text_tokens if not word in nltk.corpus.stopwords.words('english')]\n",
    "    english_tokens = [y for y in tokens_without_sw if wordnet.synsets(y)]\n",
    "    tokens = lemmatize(english_tokens)\n",
    "    for i in range(0, len(tokens)):\n",
    "        tokens[i] = tokens[i].lower()\n",
    "    return tokens"
   ]
  },
  {
   "cell_type": "code",
   "execution_count": 5,
   "metadata": {},
   "outputs": [],
   "source": [
    "def generate_document(article):\n",
    "    document = init_document()\n",
    "    populate_word(document,article)\n",
    "    populate_topics(document, article)\n",
    "    return document"
   ]
  },
  {
   "cell_type": "code",
   "execution_count": 6,
   "metadata": {},
   "outputs": [],
   "source": [
    "def populate_word(document, article):\n",
    "    text = article.find('text')\n",
    "    title = text.title\n",
    "    body = text.body\n",
    "    if title != None:\n",
    "        document['words']['title'] = tokenize(title.text)\n",
    "    if body != None:\n",
    "        document['words']['body'] = tokenize(body.text)"
   ]
  },
  {
   "cell_type": "code",
   "execution_count": 7,
   "metadata": {},
   "outputs": [],
   "source": [
    "def populate_topics(document, article):\n",
    "    document['topics'].append(article.find('topics').text)\n",
    "    for place in article.places.children:\n",
    "        document['places'].append(place.text)\n",
    "        \n",
    "#def populate_topics(document, article):\n",
    " #   if 'crude' in article.topics.find_all('d'):\n",
    " #       document['topics'] = 1\n",
    " #   else:\n",
    " #       document['topics'] = 0\n",
    " #   for place in article.places.children:\n",
    " #       document['places'].append(place.text)"
   ]
  },
  {
   "cell_type": "code",
   "execution_count": 8,
   "metadata": {},
   "outputs": [],
   "source": [
    "def parse_document():\n",
    "    i = 0\n",
    "    documents = []\n",
    "    for file in os.listdir('sgm_Files'):\n",
    "        data = open(os.path.join(os.getcwd(), 'sgm_Files',file), 'r')\n",
    "        text = data.read()\n",
    "        data.close()\n",
    "        soup = BeautifulSoup(text, 'html.parser')\n",
    "            \n",
    "        for article in soup.find_all(\"reuters\"):\n",
    "            document = generate_document(article)\n",
    "            documents.append(document)\n",
    "        print(\"Finished extracting information from file:\", file)\n",
    "        if i == 0:\n",
    "            return documents\n",
    "    return documents"
   ]
  },
  {
   "cell_type": "code",
   "execution_count": 9,
   "metadata": {},
   "outputs": [
    {
     "name": "stdout",
     "output_type": "stream",
     "text": [
      "Finished extracting information from file: reut2-004.sgm\n"
     ]
    }
   ],
   "source": [
    "documents = parse_document()"
   ]
  },
  {
   "cell_type": "code",
   "execution_count": 10,
   "metadata": {},
   "outputs": [],
   "source": [
    "def listToString(s): \n",
    "    \n",
    "    # initialize an empty string\n",
    "    str1 = \" \" \n",
    "    \n",
    "    # return string  \n",
    "    return (str1.join(s))"
   ]
  },
  {
   "cell_type": "code",
   "execution_count": 11,
   "metadata": {},
   "outputs": [],
   "source": [
    "def generate_lexicon(documents):\n",
    "    \"\"\" function: generate_lexicon\n",
    "        --------------------------\n",
    "        generate title/body lexicon for feature selection\n",
    "        :param documents: objects to generate lexicon information\n",
    "        :returns: dictionary of sets for title & body lexicons\n",
    "    \"\"\"\n",
    "    #lexicon = { 'title' : set(), 'body' : set() }\n",
    "    list = [] \n",
    "    for document in documents:\n",
    "        #for term in document['words']['title']:\n",
    "         #   lexicon['title'].add(term)\n",
    "        for term in document['words']['body']:\n",
    "            list.append(term)\n",
    "    return list"
   ]
  },
  {
   "cell_type": "code",
   "execution_count": 12,
   "metadata": {},
   "outputs": [],
   "source": [
    "lexicon = generate_lexicon(documents)"
   ]
  },
  {
   "cell_type": "code",
   "execution_count": null,
   "metadata": {},
   "outputs": [],
   "source": [
    "#import feature12\n",
    "#import tfidf"
   ]
  },
  {
   "cell_type": "code",
   "execution_count": null,
   "metadata": {
    "scrolled": false
   },
   "outputs": [],
   "source": [
    "#feature12.generate_dataset(documents, lexicon)"
   ]
  },
  {
   "cell_type": "code",
   "execution_count": null,
   "metadata": {},
   "outputs": [],
   "source": [
    "#os.chdir(r'C:\\Users\\aslam\\OneDrive\\Documents\\vu\\Data Science Project')\n",
    "#os.getcwd()\n",
    "#pd.read_csv('dataset1.csv')"
   ]
  },
  {
   "cell_type": "code",
   "execution_count": 13,
   "metadata": {},
   "outputs": [],
   "source": [
    "from sklearn.feature_extraction.text import CountVectorizer"
   ]
  },
  {
   "cell_type": "code",
   "execution_count": 16,
   "metadata": {},
   "outputs": [
    {
     "name": "stdout",
     "output_type": "stream",
     "text": [
      "6348\n"
     ]
    }
   ],
   "source": [
    "# Might take awhile...\n",
    "bow_transformer = CountVectorizer(analyzer=tokenize).fit(lexicon)\n",
    "\n",
    "# Print total number of vocab words\n",
    "print(len(bow_transformer.vocabulary_))"
   ]
  },
  {
   "cell_type": "code",
   "execution_count": 17,
   "metadata": {},
   "outputs": [
    {
     "data": {
      "text/html": [
       "<div>\n",
       "<style scoped>\n",
       "    .dataframe tbody tr th:only-of-type {\n",
       "        vertical-align: middle;\n",
       "    }\n",
       "\n",
       "    .dataframe tbody tr th {\n",
       "        vertical-align: top;\n",
       "    }\n",
       "\n",
       "    .dataframe thead th {\n",
       "        text-align: right;\n",
       "    }\n",
       "</style>\n",
       "<table border=\"1\" class=\"dataframe\">\n",
       "  <thead>\n",
       "    <tr style=\"text-align: right;\">\n",
       "      <th></th>\n",
       "      <th>text</th>\n",
       "      <th>length</th>\n",
       "      <th>topics</th>\n",
       "    </tr>\n",
       "  </thead>\n",
       "  <tbody>\n",
       "    <tr>\n",
       "      <th>0</th>\n",
       "      <td>said expect earlier reported removal jones ind...</td>\n",
       "      <td>750</td>\n",
       "      <td></td>\n",
       "    </tr>\n",
       "    <tr>\n",
       "      <th>1</th>\n",
       "      <td>mason former president chief operating officer...</td>\n",
       "      <td>378</td>\n",
       "      <td></td>\n",
       "    </tr>\n",
       "    <tr>\n",
       "      <th>2</th>\n",
       "      <td>in discovery complicate search aids vaccine te...</td>\n",
       "      <td>717</td>\n",
       "      <td></td>\n",
       "    </tr>\n",
       "    <tr>\n",
       "      <th>3</th>\n",
       "      <td>doctors centers disease control atlanta said n...</td>\n",
       "      <td>820</td>\n",
       "      <td></td>\n",
       "    </tr>\n",
       "    <tr>\n",
       "      <th>4</th>\n",
       "      <td>u s economic data week key determining u s int...</td>\n",
       "      <td>1667</td>\n",
       "      <td>interestretailipi</td>\n",
       "    </tr>\n",
       "    <tr>\n",
       "      <th>...</th>\n",
       "      <td>...</td>\n",
       "      <td>...</td>\n",
       "      <td>...</td>\n",
       "    </tr>\n",
       "    <tr>\n",
       "      <th>995</th>\n",
       "      <td>systems inc said mark a cote appointed preside...</td>\n",
       "      <td>168</td>\n",
       "      <td></td>\n",
       "    </tr>\n",
       "    <tr>\n",
       "      <th>996</th>\n",
       "      <td>moody investors service inc said may downgrade...</td>\n",
       "      <td>411</td>\n",
       "      <td></td>\n",
       "    </tr>\n",
       "    <tr>\n",
       "      <th>997</th>\n",
       "      <td>ct v ct prior pay april april nine</td>\n",
       "      <td>34</td>\n",
       "      <td>earn</td>\n",
       "    </tr>\n",
       "    <tr>\n",
       "      <th>998</th>\n",
       "      <td>ct v ct net v revs v</td>\n",
       "      <td>20</td>\n",
       "      <td>earn</td>\n",
       "    </tr>\n",
       "    <tr>\n",
       "      <th>999</th>\n",
       "      <td></td>\n",
       "      <td>0</td>\n",
       "      <td></td>\n",
       "    </tr>\n",
       "  </tbody>\n",
       "</table>\n",
       "<p>1000 rows × 3 columns</p>\n",
       "</div>"
      ],
      "text/plain": [
       "                                                  text  length  \\\n",
       "0    said expect earlier reported removal jones ind...     750   \n",
       "1    mason former president chief operating officer...     378   \n",
       "2    in discovery complicate search aids vaccine te...     717   \n",
       "3    doctors centers disease control atlanta said n...     820   \n",
       "4    u s economic data week key determining u s int...    1667   \n",
       "..                                                 ...     ...   \n",
       "995  systems inc said mark a cote appointed preside...     168   \n",
       "996  moody investors service inc said may downgrade...     411   \n",
       "997                 ct v ct prior pay april april nine      34   \n",
       "998                               ct v ct net v revs v      20   \n",
       "999                                                          0   \n",
       "\n",
       "                topics  \n",
       "0                       \n",
       "1                       \n",
       "2                       \n",
       "3                       \n",
       "4    interestretailipi  \n",
       "..                 ...  \n",
       "995                     \n",
       "996                     \n",
       "997               earn  \n",
       "998               earn  \n",
       "999                     \n",
       "\n",
       "[1000 rows x 3 columns]"
      ]
     },
     "execution_count": 17,
     "metadata": {},
     "output_type": "execute_result"
    }
   ],
   "source": [
    "strings = []\n",
    "length = []\n",
    "topics = []\n",
    "for i in range(len(documents)):\n",
    "    strings.append(listToString(documents[i]['words']['body']))\n",
    "    length.append(len(listToString(documents[i]['words']['body'])))\n",
    "    topics.append(listToString(documents[i]['topics']))\n",
    "\n",
    "#string0 = listToString(documents[0]['words']['body'])\n",
    "strings\n",
    "\n",
    "dictionary = {'text': strings, 'length' : length, 'topics': topics}\n",
    "df = pd.DataFrame(dictionary, columns=['text','length','topics'])\n",
    "df"
   ]
  },
  {
   "cell_type": "code",
   "execution_count": 19,
   "metadata": {
    "scrolled": true
   },
   "outputs": [
    {
     "name": "stdout",
     "output_type": "stream",
     "text": [
      "  (0, 80)\t1\n",
      "  (0, 92)\t1\n",
      "  (0, 261)\t1\n",
      "  (0, 790)\t1\n",
      "  (0, 1019)\t1\n",
      "  (0, 1028)\t2\n",
      "  (0, 1034)\t1\n",
      "  (0, 1035)\t1\n",
      "  (0, 1043)\t1\n",
      "  (0, 1096)\t1\n",
      "  (0, 1100)\t1\n",
      "  (0, 1800)\t1\n",
      "  (0, 1829)\t1\n",
      "  (0, 1837)\t1\n",
      "  (0, 1874)\t1\n",
      "  (0, 1903)\t1\n",
      "  (0, 2077)\t1\n",
      "  (0, 2106)\t1\n",
      "  (0, 2232)\t1\n",
      "  (0, 2801)\t1\n",
      "  (0, 2811)\t2\n",
      "  (0, 2848)\t1\n",
      "  (0, 2874)\t5\n",
      "  (0, 2889)\t1\n",
      "  (0, 2895)\t1\n",
      "  :\t:\n",
      "  (996, 4161)\t1\n",
      "  (996, 4216)\t1\n",
      "  (996, 4334)\t1\n",
      "  (996, 4344)\t1\n",
      "  (996, 4528)\t1\n",
      "  (996, 4771)\t1\n",
      "  (996, 4886)\t1\n",
      "  (996, 4917)\t1\n",
      "  (996, 4987)\t2\n",
      "  (996, 5108)\t1\n",
      "  (996, 5130)\t2\n",
      "  (996, 5182)\t3\n",
      "  (996, 5499)\t1\n",
      "  (996, 5755)\t1\n",
      "  (996, 6064)\t1\n",
      "  (997, 335)\t2\n",
      "  (997, 1390)\t2\n",
      "  (997, 3762)\t1\n",
      "  (997, 4047)\t1\n",
      "  (997, 4316)\t1\n",
      "  (997, 6078)\t1\n",
      "  (998, 1390)\t2\n",
      "  (998, 3735)\t1\n",
      "  (998, 4875)\t1\n",
      "  (998, 6078)\t3\n",
      "(1000, 6348)\n"
     ]
    }
   ],
   "source": [
    "bowow = bow_transformer.transform(strings)\n",
    "print(bowow)\n",
    "print(bowow.shape)"
   ]
  },
  {
   "cell_type": "code",
   "execution_count": 20,
   "metadata": {},
   "outputs": [
    {
     "name": "stdout",
     "output_type": "stream",
     "text": [
      "Shape of Sparse Matrix:  (1000, 6348)\n",
      "Amount of Non-Zero occurences:  46195\n"
     ]
    }
   ],
   "source": [
    "print('Shape of Sparse Matrix: ', bowow.shape)\n",
    "print('Amount of Non-Zero occurences: ', bowow.nnz)"
   ]
  },
  {
   "cell_type": "markdown",
   "metadata": {},
   "source": [
    "$sparsity = \\frac{non\\space zero\\space occurences}{amount\\space of\\space elements\\space in\\space matrix}*100$\n",
    "\n",
    "The number of zero-valued elements divided by the total number of elements (e.g., m × n for an m × n matrix) is sometimes referred to as the sparsity of the matrix."
   ]
  },
  {
   "cell_type": "code",
   "execution_count": 21,
   "metadata": {},
   "outputs": [
    {
     "name": "stdout",
     "output_type": "stream",
     "text": [
      "sparsity: 0.7277095148078135\n"
     ]
    }
   ],
   "source": [
    "sparsity = (100.0 * bowow.nnz / (bowow.shape[0] * bowow.shape[1]))\n",
    "print('sparsity: {}'.format(sparsity))"
   ]
  },
  {
   "cell_type": "code",
   "execution_count": 22,
   "metadata": {},
   "outputs": [],
   "source": [
    "tfidf_transformer = TfidfTransformer().fit(bowow)"
   ]
  },
  {
   "cell_type": "code",
   "execution_count": 23,
   "metadata": {},
   "outputs": [
    {
     "name": "stdout",
     "output_type": "stream",
     "text": [
      "(1000, 6348)\n"
     ]
    }
   ],
   "source": [
    "messages_tfidf = tfidf_transformer.transform(bowow)\n",
    "print(messages_tfidf.shape)\n"
   ]
  },
  {
   "cell_type": "markdown",
   "metadata": {},
   "source": [
    "# Data Visualisation"
   ]
  },
  {
   "cell_type": "code",
   "execution_count": 24,
   "metadata": {
    "scrolled": true
   },
   "outputs": [
    {
     "data": {
      "text/plain": [
       "<matplotlib.axes._subplots.AxesSubplot at 0x7fdce27ade20>"
      ]
     },
     "execution_count": 24,
     "metadata": {},
     "output_type": "execute_result"
    },
    {
     "data": {
      "image/png": "[encoded data removed]",
      "text/plain": [
       "<Figure size 432x288 with 1 Axes>"
      ]
     },
     "metadata": {
      "needs_background": "light"
     },
     "output_type": "display_data"
    }
   ],
   "source": [
    "df['length'].plot(bins=50, kind='hist', edgecolor='black') "
   ]
  },
  {
   "cell_type": "code",
   "execution_count": 25,
   "metadata": {},
   "outputs": [
    {
     "data": {
      "text/plain": [
       "<matplotlib.axes._subplots.AxesSubplot at 0x7fdce2665a30>"
      ]
     },
     "execution_count": 25,
     "metadata": {},
     "output_type": "execute_result"
    },
    {
     "data": {
      "image/png": "[encoded data removed]",
      "text/plain": [
       "<Figure size 432x288 with 1 Axes>"
      ]
     },
     "metadata": {
      "needs_background": "light"
     },
     "output_type": "display_data"
    }
   ],
   "source": [
    "df_crude = df[df['topics']=='crude']\n",
    "df_crude['length'].plot(bins=50, kind='hist', edgecolor='black') "
   ]
  },
  {
   "cell_type": "code",
   "execution_count": 26,
   "metadata": {},
   "outputs": [],
   "source": [
    "def contains_crude(text):\n",
    "    if text.find('crude') != -1:\n",
    "        return 1\n",
    "    return 0"
   ]
  },
  {
   "cell_type": "code",
   "execution_count": 27,
   "metadata": {
    "scrolled": true
   },
   "outputs": [],
   "source": [
    "topic_crude = []\n",
    "for i in range(len(df['topics'])):\n",
    "    topic_crude.append(contains_crude(df['topics'][i]))\n",
    "    \n",
    "df['isCrude'] = topic_crude"
   ]
  },
  {
   "cell_type": "code",
   "execution_count": 31,
   "metadata": {},
   "outputs": [],
   "source": [
    "#test = 'oilandcrude'\n",
    "#contains_crude(df['topics'][i])\n",
    "#test.find('crude')"
   ]
  },
  {
   "cell_type": "code",
   "execution_count": 32,
   "metadata": {},
   "outputs": [
    {
     "data": {
      "text/plain": [
       "<matplotlib.axes._subplots.AxesSubplot at 0x7fdce2c704f0>"
      ]
     },
     "execution_count": 32,
     "metadata": {},
     "output_type": "execute_result"
    },
    {
     "data": {
      "image/png": "[encoded data removed]",
      "text/plain": [
       "<Figure size 432x288 with 1 Axes>"
      ]
     },
     "metadata": {
      "needs_background": "light"
     },
     "output_type": "display_data"
    }
   ],
   "source": [
    "df_crude = df[df['isCrude']==1]\n",
    "df_crude['length'].plot(bins=50, kind='hist', edgecolor='black') "
   ]
  },
  {
   "cell_type": "code",
   "execution_count": 33,
   "metadata": {},
   "outputs": [
    {
     "data": {
      "text/plain": [
       "51"
      ]
     },
     "execution_count": 33,
     "metadata": {},
     "output_type": "execute_result"
    }
   ],
   "source": [
    "len(df[df['isCrude']==1]) "
   ]
  },
  {
   "cell_type": "markdown",
   "metadata": {},
   "source": [
    "# Training Random Forests"
   ]
  },
  {
   "cell_type": "markdown",
   "metadata": {},
   "source": [
    "First Test Train Split, then fit the model and do predictions. "
   ]
  },
  {
   "cell_type": "code",
   "execution_count": 34,
   "metadata": {},
   "outputs": [],
   "source": [
    "msg_train, msg_test, label_train, label_test = \\\n",
    "train_test_split(df['text'], df['isCrude'], test_size=0.2)"
   ]
  },
  {
   "cell_type": "code",
   "execution_count": 37,
   "metadata": {},
   "outputs": [],
   "source": [
    "pipeline = Pipeline([\n",
    "    ('bow', CountVectorizer(analyzer=tokenize)),  # strings to token integer counts\n",
    "    ('tfidf', TfidfTransformer()),  # integer counts to weighted TF-IDF scores\n",
    "    ('classifier', RandomForestClassifier()),  # train on TF-IDF vectors w/ Random Forest classifier\n",
    "])"
   ]
  },
  {
   "cell_type": "code",
   "execution_count": 38,
   "metadata": {},
   "outputs": [
    {
     "data": {
      "text/plain": [
       "Pipeline(steps=[('bow',\n",
       "                 CountVectorizer(analyzer=<function tokenize at 0x7fdcf2710b80>)),\n",
       "                ('tfidf', TfidfTransformer()),\n",
       "                ('classifier', RandomForestClassifier())])"
      ]
     },
     "execution_count": 38,
     "metadata": {},
     "output_type": "execute_result"
    }
   ],
   "source": [
    "pipeline.fit(msg_train,label_train)"
   ]
  },
  {
   "cell_type": "code",
   "execution_count": 39,
   "metadata": {},
   "outputs": [],
   "source": [
    "predictions = pipeline.predict(msg_test)"
   ]
  },
  {
   "cell_type": "code",
   "execution_count": 44,
   "metadata": {},
   "outputs": [
    {
     "name": "stdout",
     "output_type": "stream",
     "text": [
      "              precision    recall  f1-score   support\n",
      "\n",
      "           0       1.00      0.96      0.98       195\n",
      "           1       0.42      1.00      0.59         5\n",
      "\n",
      "    accuracy                           0.96       200\n",
      "   macro avg       0.71      0.98      0.78       200\n",
      "weighted avg       0.99      0.96      0.97       200\n",
      "\n"
     ]
    }
   ],
   "source": [
    "print(classification_report(predictions,label_test))"
   ]
  },
  {
   "cell_type": "code",
   "execution_count": null,
   "metadata": {},
   "outputs": [],
   "source": []
  }
 ],
 "metadata": {
  "kernelspec": {
   "display_name": "Python 3",
   "language": "python",
   "name": "python3"
  },
  "language_info": {
   "codemirror_mode": {
    "name": "ipython",
    "version": 3
   },
   "file_extension": ".py",
   "mimetype": "text/x-python",
   "name": "python",
   "nbconvert_exporter": "python",
   "pygments_lexer": "ipython3",
   "version": "3.8.10"
  }
 },
 "nbformat": 4,
 "nbformat_minor": 4
}
